{
  "nbformat": 4,
  "nbformat_minor": 0,
  "metadata": {
    "colab": {
      "private_outputs": true,
      "provenance": [],
      "authorship_tag": "ABX9TyPWY1OV+0KAUmQ4/n4tGpaO",
      "include_colab_link": true
    },
    "kernelspec": {
      "name": "python3",
      "display_name": "Python 3"
    },
    "language_info": {
      "name": "python"
    }
  },
  "cells": [
    {
      "cell_type": "markdown",
      "metadata": {
        "id": "view-in-github",
        "colab_type": "text"
      },
      "source": [
        "<a href=\"https://colab.research.google.com/github/avalenciacu/SYS-2025-2/blob/main/ejercicios_python.ipynb\" target=\"_parent\"><img src=\"https://colab.research.google.com/assets/colab-badge.svg\" alt=\"Open In Colab\"/></a>"
      ]
    },
    {
      "cell_type": "markdown",
      "source": [
        "libro 1\n",
        "\n",
        "1. Write a program that displays the result of the following arithmetic operation on the screen: $x(t) = \\left(\\frac{3+2}{2.5}\\right)^2$\n",
        "\n",
        "2. Write a program that asks the user for the number of hours worked and the hourly rate. Then, it should display on the screen the corresponding payment.\n",
        "\n",
        "3. Write a program that asks the user for their weight (in kg) and height (in meters), calculates the body mass index (BMI), stores it in a variable, and displays the message \"Your body mass index is imc\" on the screen, where imc is the calculated BMI rounded to two decimal places."
      ],
      "metadata": {
        "id": "7FDjpgFk5CUZ"
      }
    },
    {
      "cell_type": "code",
      "execution_count": null,
      "metadata": {
        "id": "7WCCeJYM48W3"
      },
      "outputs": [],
      "source": [
        "a=((3+2)/(2.5))**2\n",
        "print(a)\n"
      ]
    },
    {
      "cell_type": "code",
      "source": [
        "d=int(input(f\"ingrese las horas trabajadas: \"))\n",
        "e=int(input(f\"ingrese la tarifa por hora: \"))\n",
        "f=d*e\n",
        "print(f\"tu pago correspondiente es de {f}\")"
      ],
      "metadata": {
        "id": "JuC_PaFf5QpG"
      },
      "execution_count": null,
      "outputs": []
    },
    {
      "cell_type": "code",
      "source": [
        "p=float(input(\"ingrese su peso en kg :\" ))\n",
        "t=float(input(\"ingrese su altura  en m :\" ))\n",
        "imc=p/(t)**2\n",
        "print(f\"Su índice de masa corporal es {round(imc,2)}\") # round(numero,# decimales) para aproximar numeros decimales a un cierto numero"
      ],
      "metadata": {
        "id": "axlcEyu05UZ8"
      },
      "execution_count": null,
      "outputs": []
    },
    {
      "cell_type": "markdown",
      "source": [
        "libro 2"
      ],
      "metadata": {
        "id": "yOTuX1_A5vPD"
      }
    }
  ]
}