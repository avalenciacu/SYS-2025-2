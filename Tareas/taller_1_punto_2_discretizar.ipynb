{
  "nbformat": 4,
  "nbformat_minor": 0,
  "metadata": {
    "colab": {
      "private_outputs": true,
      "provenance": [],
      "authorship_tag": "ABX9TyOfW88gwOXzuRgdtHPJNVNj",
      "include_colab_link": true
    },
    "kernelspec": {
      "name": "python3",
      "display_name": "Python 3"
    },
    "language_info": {
      "name": "python"
    }
  },
  "cells": [
    {
      "cell_type": "markdown",
      "metadata": {
        "id": "view-in-github",
        "colab_type": "text"
      },
      "source": [
        "<a href=\"https://colab.research.google.com/github/avalenciacu/SYS-2025-2/blob/main/taller_1_punto_2_discretizar.ipynb\" target=\"_parent\"><img src=\"https://colab.research.google.com/assets/colab-badge.svg\" alt=\"Open In Colab\"/></a>"
      ]
    },
    {
      "cell_type": "markdown",
      "source": [
        "– Se tiene un microprocesador de 4 bits con entrada\n",
        "analoga entre -3.3 y 3.3 [v]. Describa las condiciones ´\n",
        "necesarias para que el microprocesador pueda digitalizar la senal ˜ x(t) = 30 cos(100πt). Presente una simulacion en Python de dicho proceso para tres ciclos de ´\n",
        "la senal ˜ x(t)."
      ],
      "metadata": {
        "id": "WrhW5LghDnbm"
      }
    },
    {
      "cell_type": "code",
      "source": [
        "import numpy as np"
      ],
      "metadata": {
        "id": "gTmW4lyFHKzm"
      },
      "execution_count": null,
      "outputs": []
    },
    {
      "cell_type": "code",
      "execution_count": null,
      "metadata": {
        "id": "PtA0LM_QDc0Z"
      },
      "outputs": [],
      "source": [
        "# crear vector tiempo por rango y por número de muestras\n",
        "K = 500 # número de muestras\n",
        "ti = 0 # tiempo incial referencia [s]\n",
        "tf = 30 # tieimpo final  [s]\n",
        "# vector de tiempo equiespacioado\n",
        "tv = np.linspace(start=ti,stop=tf,num=K)\n",
        "print(tv)\n",
        "print(tv.shape)\n",
        "# tiempo muestreo se define según el rango de trabajo en segundos y la cantidad de muestras\n",
        "Ts = (tf - ti)/K\n",
        "print(Ts)"
      ]
    },
    {
      "cell_type": "code",
      "source": [
        "# Parámetros de la señal\n",
        "A = 30         # Amplitud\n",
        "f = 50          # Frecuencia en Hz\n",
        "\n",
        "# Crear señal cosenoidal en tiempo discreto\n",
        "xv = A * np.cos(2 * np.pi * f * tv)  # 100πt = 2πft\n",
        "\n",
        "print(xv)\n",
        "print(xv.shape)\n"
      ],
      "metadata": {
        "id": "aD2GIH3vICW-"
      },
      "execution_count": null,
      "outputs": []
    },
    {
      "cell_type": "code",
      "source": [
        "\n",
        "import matplotlib.pyplot as plt #librería para gráficas básicas en python\n",
        "\n",
        "plt.plot(tv,xv,'r.') #vector en eje horizontal, vector eje vertical, color y marcador\n",
        "plt.xlabel('tiempo [s]')\n",
        "plt.ylabel('') #  ecuación latex\n",
        "plt.show() #mostrar gráfica"
      ],
      "metadata": {
        "id": "xcH5y6LzInkF"
      },
      "execution_count": null,
      "outputs": []
    },
    {
      "cell_type": "markdown",
      "source": [
        "Se crea un código tipo función bajo el ambiente def, para generar el cero y pendiente según los valores\n",
        "y\n",
        "definidos por el usuario."
      ],
      "metadata": {
        "id": "75GObd7QJUdH"
      }
    },
    {
      "cell_type": "code",
      "source": [
        "y_min = -3.3 # valor min después de cero y pendiente\n",
        "y_max = 3.3 # valor max después de cero y pendiente\n",
        "#crear funcion en python\n",
        "def my_ceropen(x,ymin = -5, ymax = 5): #en general se pueden definir valores por defecto\n",
        "  '''\n",
        "  Codigo base para simular proceso de cero y pendiente\n",
        "  Se ingresa arreglo de numpy y los valores min  y max despues de cero y pendiente\n",
        "  '''\n",
        "  xmax = max(x) # x.max()\n",
        "  xmin = min(x) # x.min()\n",
        "  m = (ymax - ymin)/(xmax - xmin)\n",
        "  c = ymin - m*xmin\n",
        "  yv = m*x + c\n",
        "  return yv"
      ],
      "metadata": {
        "id": "YryQhgz0JWPl"
      },
      "execution_count": null,
      "outputs": []
    },
    {
      "cell_type": "code",
      "source": [
        "yv = my_ceropen(xv,ymin=-3.3,ymax=3.3) #se llama la función definida en la celda anterior\n",
        "\n",
        "\n",
        "print(yv)\n",
        "print(yv.shape)\n",
        "\n"
      ],
      "metadata": {
        "id": "YbgkCtSdJakV"
      },
      "execution_count": null,
      "outputs": []
    },
    {
      "cell_type": "code",
      "source": [
        "\n",
        "plt.subplot(121) # 1 = #filas, 2 = #columnas, 1 = # dibujo\n",
        "plt.plot(tv,xv,'r.')\n",
        "plt.xlabel('tiempo [s]')\n",
        "plt.ylabel('')\n",
        "\n",
        "plt.subplot(122)\n",
        "plt.plot(tv,yv,'b.')\n",
        "plt.xlabel('tiempo [s]')\n",
        "plt.ylabel('')\n",
        "plt.subplots_adjust(hspace=0.5,wspace=0.5) #ajustar espaciado entre gráficas\n",
        "plt.show()\n"
      ],
      "metadata": {
        "id": "bANP1FsIJoRt"
      },
      "execution_count": null,
      "outputs": []
    },
    {
      "cell_type": "markdown",
      "source": [],
      "metadata": {
        "id": "gP4vpmQnLTkA"
      }
    }
  ]
}
